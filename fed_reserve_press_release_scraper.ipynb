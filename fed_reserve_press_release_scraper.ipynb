{
 "cells": [
  {
   "cell_type": "code",
   "execution_count": 80,
   "metadata": {},
   "outputs": [],
   "source": [
    "import pandas as pd\n",
    "from splinter import Browser\n",
    "from bs4 import BeautifulSoup as bs\n",
    "from webdriver_manager.chrome import ChromeDriverManager\n",
    "import time\n",
    "import datetime as dt"
   ]
  },
  {
   "cell_type": "code",
   "execution_count": 81,
   "metadata": {
    "scrolled": true
   },
   "outputs": [
    {
     "name": "stderr",
     "output_type": "stream",
     "text": [
      "\n",
      "\n",
      "====== WebDriver manager ======\n",
      "Current google-chrome version is 91.0.4472\n",
      "Get LATEST driver version for 91.0.4472\n",
      "Driver [C:\\Users\\T\\.wdm\\drivers\\chromedriver\\win32\\91.0.4472.101\\chromedriver.exe] found in cache\n"
     ]
    }
   ],
   "source": [
    "# set up splinter\n",
    "executable_path = {'executable_path': ChromeDriverManager().install()}\n",
    "browser = Browser('chrome', **executable_path, headless=False)"
   ]
  },
  {
   "cell_type": "code",
   "execution_count": 82,
   "metadata": {},
   "outputs": [],
   "source": [
    "# visit web page\n",
    "page_url = \"https://www.federalreserve.gov/newsevents/pressreleases.htm\"\n",
    "browser.visit(page_url)\n",
    "time.sleep(10)\n",
    "\n",
    "press_release_list = []\n",
    "\n",
    "# iterate through all pages\n",
    "for i in range(10):\n",
    "    \n",
    "    # create html object and scrape into soup\n",
    "    html = browser.html\n",
    "    soup = bs(html, \"html.parser\")\n",
    "    \n",
    "    press_releases = soup.find_all(\"div\", \"col-xs-9 col-md-10 eventlist__event\")\n",
    "\n",
    "    for release in press_releases:\n",
    "        \n",
    "        # scrape url, title, and category of press release\n",
    "        release_url = 'https://www.federalreserve.gov' + release.a['href']\n",
    "        title = release.a.text.strip()\n",
    "        category = release.b.text.strip()\n",
    "        \n",
    "        #put variables in dictionary\n",
    "        release_dict = {\"url\": release_url,\n",
    "                        \"title\": title,\n",
    "                        \"category\": category\n",
    "                       }\n",
    "\n",
    "        press_release_list.append(release_dict)\n",
    "    \n",
    "    # click the 'Next' button on each page\n",
    "    try:\n",
    "        browser.links.find_by_partial_text('Next').click()\n",
    "          \n",
    "    except:\n",
    "        print(\"scraping complete\")"
   ]
  },
  {
   "cell_type": "code",
   "execution_count": 60,
   "metadata": {},
   "outputs": [
    {
     "data": {
      "text/plain": [
       "200"
      ]
     },
     "execution_count": 60,
     "metadata": {},
     "output_type": "execute_result"
    }
   ],
   "source": [
    "len(press_release_list)"
   ]
  },
  {
   "cell_type": "code",
   "execution_count": 61,
   "metadata": {},
   "outputs": [
    {
     "data": {
      "text/plain": [
       "{'url': 'https://www.federalreserve.gov/newsevents/pressreleases/monetary20210625a.htm',\n",
       " 'title': 'Federal Reserve Board announces it will extend for a final time its Paycheck Protection Program Liquidity Facility, or PPPLF, by an additional month to July 30, 2021',\n",
       " 'category': 'Monetary Policy'}"
      ]
     },
     "execution_count": 61,
     "metadata": {},
     "output_type": "execute_result"
    }
   ],
   "source": [
    "press_release_list[0]"
   ]
  },
  {
   "cell_type": "code",
   "execution_count": 107,
   "metadata": {},
   "outputs": [],
   "source": [
    "press_release_details = []\n",
    "\n",
    "# use urls scraped in previous cell to pull\n",
    "for i in range(len(press_release_list)):\n",
    "    link = press_release_list[i][\"url\"]\n",
    "    \n",
    "    # visit web page\n",
    "    browser.visit(link)\n",
    "    #time.sleep(1)\n",
    "\n",
    "    # create html object and scrape into soup\n",
    "    html = browser.html\n",
    "    soup = bs(html, \"html.parser\")\n",
    "    \n",
    "    # scrape date and time of press release\n",
    "    release_date = soup.find(\"div\", class_=\"heading col-xs-12 col-sm-8 col-md-8\").find(\"p\", class_=\"article__time\").text.strip()\n",
    "    release_time = soup.find(\"div\", class_=\"heading col-xs-12 col-sm-8 col-md-8\").find(\"p\", class_=\"releaseTime\").text.strip()\n",
    "    \n",
    "    # strip off part of string not related to time. replace a.m./p.m. with am/pm for strptime to work\n",
    "    if release_time.endswith('EDT') or release_time.endswith('EST'):\n",
    "        release_time = release_time[-14:].strip()\n",
    "        release_time = release_time.replace(\".\", \"\")\n",
    "    else:\n",
    "        release_time = None\n",
    "    \n",
    "    if release_time is not None:\n",
    "        \n",
    "        # concatenate date and time\n",
    "        release_datetime = release_date + \" \" + release_time\n",
    "        \n",
    "        # convert to datetime. change EST to \"-0500\" for strptime to work\n",
    "        if release_datetime[-3:] == 'EST':\n",
    "            release_datetime = dt.datetime.strptime(release_datetime[:-3] + \"-0500\", \"%B %d, %Y %I:%M %p %z\")\n",
    "        \n",
    "        # convert to datetime. change EST to \"-0400\" for strptime to work\n",
    "        elif release_datetime[-3:] == 'EDT':\n",
    "            release_datetime = dt.datetime.strptime(release_datetime[:-3] + \"-0400\", \"%B %d, %Y %I:%M %p %z\")\n",
    "        \n",
    "        release_datetime = release_datetime.replace(minute=30)\n",
    "    \n",
    "    else:\n",
    "        release_datetime = dt.datetime.strptime(release_date, \"%B %d, %Y\")\n",
    "    \n",
    "    # find press release content paragraphs\n",
    "    paragraphs = soup.find(\"div\", class_=\"col-xs-12 col-sm-8 col-md-8\").find_all(\"p\")\n",
    "    text = \"\"\n",
    "    \n",
    "    # loop through paragraphs and concatenate\n",
    "    for p in paragraphs:\n",
    "        if len(text) == 0:\n",
    "            text = p.text.strip()\n",
    "        else:\n",
    "            text = text + \"\\n\" + p.text.strip()\n",
    "    \n",
    "    # put variables in dictionary\n",
    "    details_dict = {\"url\": link,\n",
    "                    \"date\": release_date,\n",
    "                    \"time\": release_time,\n",
    "                    \"datetime_on_30_min\": release_datetime,\n",
    "                    \"text\": text\n",
    "                   }\n",
    "    \n",
    "    press_release_details.append(details_dict)\n"
   ]
  },
  {
   "cell_type": "code",
   "execution_count": 108,
   "metadata": {},
   "outputs": [
    {
     "data": {
      "text/plain": [
       "200"
      ]
     },
     "execution_count": 108,
     "metadata": {},
     "output_type": "execute_result"
    }
   ],
   "source": [
    "len(press_release_details)"
   ]
  },
  {
   "cell_type": "code",
   "execution_count": 109,
   "metadata": {
    "scrolled": false
   },
   "outputs": [
    {
     "data": {
      "text/plain": [
       "{'url': 'https://www.federalreserve.gov/newsevents/pressreleases/monetary20210625a.htm',\n",
       " 'date': 'June 25, 2021',\n",
       " 'time': '3:30 pm EDT',\n",
       " 'datetime_on_30_min': datetime.datetime(2021, 6, 25, 15, 30, tzinfo=datetime.timezone(datetime.timedelta(days=-1, seconds=72000))),\n",
       " 'text': \"The Federal Reserve Board on Friday announced it will extend for a final time its Paycheck Protection Program Liquidity Facility, or PPPLF, by an additional month to July 30, 2021. The extension is being made as an operational accommodation to allow additional processing time for banks, community development financial institutions, and other financial institutions to pledge to the facility any Paycheck Protection Program, or PPP, loans approved by the Small Business Administration through the June 30 expiration of the PPP program.\\nThe PPPLF extends term credit to financial institutions making PPP loans, accepting the PPP loans as collateral. The liquidity provided by the PPPLF bolsters the effectiveness of the PPP by helping eligible financial institutions fund PPP loans.\\nThe PPPLF was established in April 2020 under the Board's 13(3) authority and the extension from June 30 to July 30, 2021, was approved by the Secretary of the Treasury.\\nFor media inquiries, call 202-452-2955\\nPaycheck Protection Program Liquidity Facility Term Sheet (PDF)\"}"
      ]
     },
     "execution_count": 109,
     "metadata": {},
     "output_type": "execute_result"
    }
   ],
   "source": [
    "press_release_details[0]"
   ]
  },
  {
   "cell_type": "code",
   "execution_count": 110,
   "metadata": {
    "scrolled": true
   },
   "outputs": [
    {
     "data": {
      "text/html": [
       "<div>\n",
       "<style scoped>\n",
       "    .dataframe tbody tr th:only-of-type {\n",
       "        vertical-align: middle;\n",
       "    }\n",
       "\n",
       "    .dataframe tbody tr th {\n",
       "        vertical-align: top;\n",
       "    }\n",
       "\n",
       "    .dataframe thead th {\n",
       "        text-align: right;\n",
       "    }\n",
       "</style>\n",
       "<table border=\"1\" class=\"dataframe\">\n",
       "  <thead>\n",
       "    <tr style=\"text-align: right;\">\n",
       "      <th></th>\n",
       "      <th>url</th>\n",
       "      <th>title</th>\n",
       "      <th>category</th>\n",
       "    </tr>\n",
       "  </thead>\n",
       "  <tbody>\n",
       "    <tr>\n",
       "      <th>0</th>\n",
       "      <td>https://www.federalreserve.gov/newsevents/pres...</td>\n",
       "      <td>Federal Reserve Board announces it will extend...</td>\n",
       "      <td>Monetary Policy</td>\n",
       "    </tr>\n",
       "    <tr>\n",
       "      <th>1</th>\n",
       "      <td>https://www.federalreserve.gov/newsevents/pres...</td>\n",
       "      <td>Agencies release list of distressed or underse...</td>\n",
       "      <td>Banking and Consumer Regulatory Policy</td>\n",
       "    </tr>\n",
       "    <tr>\n",
       "      <th>2</th>\n",
       "      <td>https://www.federalreserve.gov/newsevents/pres...</td>\n",
       "      <td>Federal Reserve Board releases results of annu...</td>\n",
       "      <td>Banking and Consumer Regulatory Policy</td>\n",
       "    </tr>\n",
       "    <tr>\n",
       "      <th>3</th>\n",
       "      <td>https://www.federalreserve.gov/newsevents/pres...</td>\n",
       "      <td>Federal Reserve announces it will continue its...</td>\n",
       "      <td>Monetary Policy</td>\n",
       "    </tr>\n",
       "    <tr>\n",
       "      <th>4</th>\n",
       "      <td>https://www.federalreserve.gov/newsevents/pres...</td>\n",
       "      <td>Federal Reserve Board extends comment period o...</td>\n",
       "      <td>Banking and Consumer Regulatory Policy</td>\n",
       "    </tr>\n",
       "  </tbody>\n",
       "</table>\n",
       "</div>"
      ],
      "text/plain": [
       "                                                 url  \\\n",
       "0  https://www.federalreserve.gov/newsevents/pres...   \n",
       "1  https://www.federalreserve.gov/newsevents/pres...   \n",
       "2  https://www.federalreserve.gov/newsevents/pres...   \n",
       "3  https://www.federalreserve.gov/newsevents/pres...   \n",
       "4  https://www.federalreserve.gov/newsevents/pres...   \n",
       "\n",
       "                                               title  \\\n",
       "0  Federal Reserve Board announces it will extend...   \n",
       "1  Agencies release list of distressed or underse...   \n",
       "2  Federal Reserve Board releases results of annu...   \n",
       "3  Federal Reserve announces it will continue its...   \n",
       "4  Federal Reserve Board extends comment period o...   \n",
       "\n",
       "                                 category  \n",
       "0                         Monetary Policy  \n",
       "1  Banking and Consumer Regulatory Policy  \n",
       "2  Banking and Consumer Regulatory Policy  \n",
       "3                         Monetary Policy  \n",
       "4  Banking and Consumer Regulatory Policy  "
      ]
     },
     "execution_count": 110,
     "metadata": {},
     "output_type": "execute_result"
    }
   ],
   "source": [
    "df_press_releases = pd.DataFrame(press_release_list)\n",
    "\n",
    "df_press_releases.head()"
   ]
  },
  {
   "cell_type": "code",
   "execution_count": 111,
   "metadata": {
    "scrolled": false
   },
   "outputs": [
    {
     "data": {
      "text/html": [
       "<div>\n",
       "<style scoped>\n",
       "    .dataframe tbody tr th:only-of-type {\n",
       "        vertical-align: middle;\n",
       "    }\n",
       "\n",
       "    .dataframe tbody tr th {\n",
       "        vertical-align: top;\n",
       "    }\n",
       "\n",
       "    .dataframe thead th {\n",
       "        text-align: right;\n",
       "    }\n",
       "</style>\n",
       "<table border=\"1\" class=\"dataframe\">\n",
       "  <thead>\n",
       "    <tr style=\"text-align: right;\">\n",
       "      <th></th>\n",
       "      <th>url</th>\n",
       "      <th>date</th>\n",
       "      <th>time</th>\n",
       "      <th>datetime_on_30_min</th>\n",
       "      <th>text</th>\n",
       "    </tr>\n",
       "  </thead>\n",
       "  <tbody>\n",
       "    <tr>\n",
       "      <th>0</th>\n",
       "      <td>https://www.federalreserve.gov/newsevents/pres...</td>\n",
       "      <td>June 25, 2021</td>\n",
       "      <td>3:30 pm EDT</td>\n",
       "      <td>2021-06-25 15:30:00-04:00</td>\n",
       "      <td>The Federal Reserve Board on Friday announced ...</td>\n",
       "    </tr>\n",
       "    <tr>\n",
       "      <th>1</th>\n",
       "      <td>https://www.federalreserve.gov/newsevents/pres...</td>\n",
       "      <td>June 25, 2021</td>\n",
       "      <td>3:00 pm EDT</td>\n",
       "      <td>2021-06-25 15:30:00-04:00</td>\n",
       "      <td>The Board of Governors of the Federal Reserve ...</td>\n",
       "    </tr>\n",
       "    <tr>\n",
       "      <th>2</th>\n",
       "      <td>https://www.federalreserve.gov/newsevents/pres...</td>\n",
       "      <td>June 24, 2021</td>\n",
       "      <td>4:30 pm EDT</td>\n",
       "      <td>2021-06-24 16:30:00-04:00</td>\n",
       "      <td>The Federal Reserve Board on Thursday released...</td>\n",
       "    </tr>\n",
       "    <tr>\n",
       "      <th>3</th>\n",
       "      <td>https://www.federalreserve.gov/newsevents/pres...</td>\n",
       "      <td>June 23, 2021</td>\n",
       "      <td>9:45 am EDT</td>\n",
       "      <td>2021-06-23 09:30:00-04:00</td>\n",
       "      <td>The Federal Reserve on Wednesday announced tha...</td>\n",
       "    </tr>\n",
       "    <tr>\n",
       "      <th>4</th>\n",
       "      <td>https://www.federalreserve.gov/newsevents/pres...</td>\n",
       "      <td>June 22, 2021</td>\n",
       "      <td>10:30 am EDT</td>\n",
       "      <td>2021-06-22 10:30:00-04:00</td>\n",
       "      <td>The Federal Reserve Board announced on Tuesday...</td>\n",
       "    </tr>\n",
       "  </tbody>\n",
       "</table>\n",
       "</div>"
      ],
      "text/plain": [
       "                                                 url           date  \\\n",
       "0  https://www.federalreserve.gov/newsevents/pres...  June 25, 2021   \n",
       "1  https://www.federalreserve.gov/newsevents/pres...  June 25, 2021   \n",
       "2  https://www.federalreserve.gov/newsevents/pres...  June 24, 2021   \n",
       "3  https://www.federalreserve.gov/newsevents/pres...  June 23, 2021   \n",
       "4  https://www.federalreserve.gov/newsevents/pres...  June 22, 2021   \n",
       "\n",
       "           time         datetime_on_30_min  \\\n",
       "0   3:30 pm EDT  2021-06-25 15:30:00-04:00   \n",
       "1   3:00 pm EDT  2021-06-25 15:30:00-04:00   \n",
       "2   4:30 pm EDT  2021-06-24 16:30:00-04:00   \n",
       "3   9:45 am EDT  2021-06-23 09:30:00-04:00   \n",
       "4  10:30 am EDT  2021-06-22 10:30:00-04:00   \n",
       "\n",
       "                                                text  \n",
       "0  The Federal Reserve Board on Friday announced ...  \n",
       "1  The Board of Governors of the Federal Reserve ...  \n",
       "2  The Federal Reserve Board on Thursday released...  \n",
       "3  The Federal Reserve on Wednesday announced tha...  \n",
       "4  The Federal Reserve Board announced on Tuesday...  "
      ]
     },
     "execution_count": 111,
     "metadata": {},
     "output_type": "execute_result"
    }
   ],
   "source": [
    "df_press_release_content = pd.DataFrame(press_release_details)\n",
    "\n",
    "df_press_release_content.head()"
   ]
  },
  {
   "cell_type": "code",
   "execution_count": 112,
   "metadata": {
    "scrolled": true
   },
   "outputs": [
    {
     "data": {
      "text/html": [
       "<div>\n",
       "<style scoped>\n",
       "    .dataframe tbody tr th:only-of-type {\n",
       "        vertical-align: middle;\n",
       "    }\n",
       "\n",
       "    .dataframe tbody tr th {\n",
       "        vertical-align: top;\n",
       "    }\n",
       "\n",
       "    .dataframe thead th {\n",
       "        text-align: right;\n",
       "    }\n",
       "</style>\n",
       "<table border=\"1\" class=\"dataframe\">\n",
       "  <thead>\n",
       "    <tr style=\"text-align: right;\">\n",
       "      <th></th>\n",
       "      <th>url</th>\n",
       "      <th>title</th>\n",
       "      <th>category</th>\n",
       "      <th>date</th>\n",
       "      <th>time</th>\n",
       "      <th>datetime_on_30_min</th>\n",
       "      <th>text</th>\n",
       "    </tr>\n",
       "  </thead>\n",
       "  <tbody>\n",
       "    <tr>\n",
       "      <th>0</th>\n",
       "      <td>https://www.federalreserve.gov/newsevents/pres...</td>\n",
       "      <td>Federal Reserve Board announces it will extend...</td>\n",
       "      <td>Monetary Policy</td>\n",
       "      <td>June 25, 2021</td>\n",
       "      <td>3:30 pm EDT</td>\n",
       "      <td>2021-06-25 15:30:00-04:00</td>\n",
       "      <td>The Federal Reserve Board on Friday announced ...</td>\n",
       "    </tr>\n",
       "    <tr>\n",
       "      <th>1</th>\n",
       "      <td>https://www.federalreserve.gov/newsevents/pres...</td>\n",
       "      <td>Agencies release list of distressed or underse...</td>\n",
       "      <td>Banking and Consumer Regulatory Policy</td>\n",
       "      <td>June 25, 2021</td>\n",
       "      <td>3:00 pm EDT</td>\n",
       "      <td>2021-06-25 15:30:00-04:00</td>\n",
       "      <td>The Board of Governors of the Federal Reserve ...</td>\n",
       "    </tr>\n",
       "    <tr>\n",
       "      <th>2</th>\n",
       "      <td>https://www.federalreserve.gov/newsevents/pres...</td>\n",
       "      <td>Federal Reserve Board releases results of annu...</td>\n",
       "      <td>Banking and Consumer Regulatory Policy</td>\n",
       "      <td>June 24, 2021</td>\n",
       "      <td>4:30 pm EDT</td>\n",
       "      <td>2021-06-24 16:30:00-04:00</td>\n",
       "      <td>The Federal Reserve Board on Thursday released...</td>\n",
       "    </tr>\n",
       "    <tr>\n",
       "      <th>3</th>\n",
       "      <td>https://www.federalreserve.gov/newsevents/pres...</td>\n",
       "      <td>Federal Reserve announces it will continue its...</td>\n",
       "      <td>Monetary Policy</td>\n",
       "      <td>June 23, 2021</td>\n",
       "      <td>9:45 am EDT</td>\n",
       "      <td>2021-06-23 09:30:00-04:00</td>\n",
       "      <td>The Federal Reserve on Wednesday announced tha...</td>\n",
       "    </tr>\n",
       "    <tr>\n",
       "      <th>4</th>\n",
       "      <td>https://www.federalreserve.gov/newsevents/pres...</td>\n",
       "      <td>Federal Reserve Board extends comment period o...</td>\n",
       "      <td>Banking and Consumer Regulatory Policy</td>\n",
       "      <td>June 22, 2021</td>\n",
       "      <td>10:30 am EDT</td>\n",
       "      <td>2021-06-22 10:30:00-04:00</td>\n",
       "      <td>The Federal Reserve Board announced on Tuesday...</td>\n",
       "    </tr>\n",
       "  </tbody>\n",
       "</table>\n",
       "</div>"
      ],
      "text/plain": [
       "                                                 url  \\\n",
       "0  https://www.federalreserve.gov/newsevents/pres...   \n",
       "1  https://www.federalreserve.gov/newsevents/pres...   \n",
       "2  https://www.federalreserve.gov/newsevents/pres...   \n",
       "3  https://www.federalreserve.gov/newsevents/pres...   \n",
       "4  https://www.federalreserve.gov/newsevents/pres...   \n",
       "\n",
       "                                               title  \\\n",
       "0  Federal Reserve Board announces it will extend...   \n",
       "1  Agencies release list of distressed or underse...   \n",
       "2  Federal Reserve Board releases results of annu...   \n",
       "3  Federal Reserve announces it will continue its...   \n",
       "4  Federal Reserve Board extends comment period o...   \n",
       "\n",
       "                                 category           date          time  \\\n",
       "0                         Monetary Policy  June 25, 2021   3:30 pm EDT   \n",
       "1  Banking and Consumer Regulatory Policy  June 25, 2021   3:00 pm EDT   \n",
       "2  Banking and Consumer Regulatory Policy  June 24, 2021   4:30 pm EDT   \n",
       "3                         Monetary Policy  June 23, 2021   9:45 am EDT   \n",
       "4  Banking and Consumer Regulatory Policy  June 22, 2021  10:30 am EDT   \n",
       "\n",
       "          datetime_on_30_min  \\\n",
       "0  2021-06-25 15:30:00-04:00   \n",
       "1  2021-06-25 15:30:00-04:00   \n",
       "2  2021-06-24 16:30:00-04:00   \n",
       "3  2021-06-23 09:30:00-04:00   \n",
       "4  2021-06-22 10:30:00-04:00   \n",
       "\n",
       "                                                text  \n",
       "0  The Federal Reserve Board on Friday announced ...  \n",
       "1  The Board of Governors of the Federal Reserve ...  \n",
       "2  The Federal Reserve Board on Thursday released...  \n",
       "3  The Federal Reserve on Wednesday announced tha...  \n",
       "4  The Federal Reserve Board announced on Tuesday...  "
      ]
     },
     "execution_count": 112,
     "metadata": {},
     "output_type": "execute_result"
    }
   ],
   "source": [
    "df_merged = df_press_releases.merge(df_press_release_content, how=\"inner\", on=\"url\")\n",
    "df_merged.head()"
   ]
  },
  {
   "cell_type": "code",
   "execution_count": 113,
   "metadata": {},
   "outputs": [],
   "source": [
    "df_merged.to_csv('fed_press_releases.csv', index=False)"
   ]
  }
 ],
 "metadata": {
  "kernelspec": {
   "display_name": "Python 3",
   "language": "python",
   "name": "python3"
  },
  "language_info": {
   "codemirror_mode": {
    "name": "ipython",
    "version": 3
   },
   "file_extension": ".py",
   "mimetype": "text/x-python",
   "name": "python",
   "nbconvert_exporter": "python",
   "pygments_lexer": "ipython3",
   "version": "3.8.5"
  }
 },
 "nbformat": 4,
 "nbformat_minor": 4
}
